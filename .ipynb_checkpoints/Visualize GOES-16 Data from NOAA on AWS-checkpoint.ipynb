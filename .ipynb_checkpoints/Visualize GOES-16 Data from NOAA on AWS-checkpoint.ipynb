{
 "cells": [
  {
   "cell_type": "code",
   "execution_count": null,
   "metadata": {},
   "outputs": [],
   "source": [
    "import xarray as xr\n",
    "import requests\n",
    "import netCDF4\n",
    "import boto3\n",
    "import matplotlib.pyplot as plt\n",
    "%matplotlib inline"
   ]
  },
  {
   "cell_type": "code",
   "execution_count": null,
   "metadata": {},
   "outputs": [],
   "source": [
    "bucket_name = 'noaa-goes16'\n",
    "product_name = 'ABI-L1b-RadF'\n",
    "year = 2019\n",
    "day_of_year = 79\n",
    "hour = 12\n",
    "band = 3"
   ]
  },
  {
   "cell_type": "code",
   "execution_count": null,
   "metadata": {},
   "outputs": [],
   "source": [
    "def get_s3_keys(bucket, prefix = ''):\n",
    "    \"\"\"\n",
    "    Generate the keys in an S3 bucket.\n",
    "\n",
    "    :param bucket: Name of the S3 bucket.\n",
    "    :param prefix: Only fetch keys that start with this prefix (optional).\n",
    "    \"\"\"\n",
    "    s3 = boto3.client('s3')   #\n",
    "    kwargs = {'Bucket': bucket}\n",
    "\n",
    "    if isinstance(prefix, str):\n",
    "        kwargs['Prefix'] = prefix\n",
    "\n",
    "    while True:\n",
    "        resp = s3.list_objects_v2(**kwargs)    #list all keys\n",
    "        for obj in resp['Contents']:\n",
    "            key = obj['Key']\n",
    "            if key.startswith(prefix):\n",
    "                yield key\n",
    "                print(key)\n",
    "\n",
    "        try:\n",
    "            kwargs['ContinuationToken'] = resp['NextContinuationToken']\n",
    "        except KeyError:\n",
    "            break\n",
    "            \n",
    "        print(resp)"
   ]
  },
  {
   "cell_type": "markdown",
   "metadata": {},
   "source": [
    "ContinuationToken field, which can be passed to the ListObjects API to get the next page of results. By looking for this token, and using it to make another request, we can steadily fetch every key in the bucket.\n",
    "            \n",
    "Once we’ve got a response, we extract the continuation token and add it to kwargs, which means we’ll pass it on the next ListObjects call. When we’re on the final page of results, the ContinuationToken field is omitted (because there’s nowhere to continue to) – at which point the KeyError tells us that we should stop looking, and return the list to the user."
   ]
  },
  {
   "cell_type": "code",
   "execution_count": null,
   "metadata": {},
   "outputs": [],
   "source": [
    "keys = get_s3_keys(bucket_name, prefix = product_name+'/'+ str(year) + '/' + str(day_of_year).zfill(3) + '/' + str(hour).zfill(2) + '/OR_'+ \n",
    "                                         product_name + '-M3C' + str(band).zfill(2))\n",
    "\n",
    "key = [key for key in keys][0] # selecting the first measurement taken within the hour"
   ]
  },
  {
   "cell_type": "code",
   "execution_count": null,
   "metadata": {},
   "outputs": [],
   "source": [
    "resp = requests.get('https://' + bucket_name + '.s3.amazonaws.com/' + key)"
   ]
  },
  {
   "cell_type": "code",
   "execution_count": null,
   "metadata": {},
   "outputs": [],
   "source": [
    "file_name = key.split('/')[-1].split('.')[0]\n",
    "nc4_ds = netCDF4.Dataset(file_name, memory = resp.content)\n",
    "store = xr.backends.NetCDF4DataStore(nc4_ds)\n",
    "DS = xr.open_dataset(store)"
   ]
  },
  {
   "cell_type": "code",
   "execution_count": null,
   "metadata": {},
   "outputs": [],
   "source": [
    "fig = plt.figure(figsize=(12, 12))\n",
    "plt.imshow(DS.Rad, cmap='gray')\n",
    "plt.axis('off')\n",
    "plt.savefig(file_name + '.png', dpi=300, facecolor='w', edgecolor='w')"
   ]
  }
 ],
 "metadata": {
  "kernelspec": {
   "display_name": "Python 3",
   "language": "python",
   "name": "python3"
  },
  "language_info": {
   "codemirror_mode": {
    "name": "ipython",
    "version": 3
   },
   "file_extension": ".py",
   "mimetype": "text/x-python",
   "name": "python",
   "nbconvert_exporter": "python",
   "pygments_lexer": "ipython3",
   "version": "3.7.3"
  }
 },
 "nbformat": 4,
 "nbformat_minor": 2
}
